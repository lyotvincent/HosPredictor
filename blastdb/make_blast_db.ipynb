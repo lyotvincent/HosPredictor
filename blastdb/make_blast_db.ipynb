{
 "cells": [
  {
   "cell_type": "code",
   "execution_count": 1,
   "metadata": {},
   "outputs": [
    {
     "data": {
      "text/plain": [
       "CompletedProcess(args='wget -c -t 0 -T 10 ftp://ftp.ncbi.nlm.nih.gov/genomes/Viruses/all.fna.tar.gz', returncode=0)"
      ]
     },
     "execution_count": 1,
     "metadata": {},
     "output_type": "execute_result"
    }
   ],
   "source": [
    "import subprocess\n",
    "import glob\n",
    "\n",
    "subprocess.run(\"wget -c -t 0 -T 10 ftp://ftp.ncbi.nlm.nih.gov/genomes/Viruses/all.fna.tar.gz\", shell=True, check=True)"
   ]
  },
  {
   "cell_type": "code",
   "execution_count": 2,
   "metadata": {},
   "outputs": [
    {
     "data": {
      "text/plain": [
       "CompletedProcess(args='tar -zxvf all.fna.tar.gz -C ./all.fna/', returncode=0)"
      ]
     },
     "execution_count": 2,
     "metadata": {},
     "output_type": "execute_result"
    }
   ],
   "source": [
    "subprocess.run(\"mkdir all.fna\", shell=True, check=True)\n",
    "subprocess.run(\"tar -zxvf all.fna.tar.gz -C ./all.fna/\", shell=True, check=True)"
   ]
  },
  {
   "cell_type": "code",
   "execution_count": 4,
   "metadata": {},
   "outputs": [],
   "source": [
    "with open('../data_preprocessing/sequences_only_all_fna.csv', 'r') as f:\n",
    "    host_lines = f.readlines()\n",
    "        \n",
    "host_dict = list()\n",
    "for line in host_lines:\n",
    "    line = line.strip().split(',')\n",
    "    host_dict.append(line[0])\n",
    "\n",
    "output = open('./all_seq.fasta', 'w')\n",
    "output.close()\n",
    "    \n",
    "file_names = glob.glob('./all.fna/*/*.fna')\n",
    "all_fnas = []\n",
    "for f in file_names:\n",
    "    if f.split('/')[-1].split('.')[0] in host_dict:\n",
    "        subprocess.run('cat %s >> ./all_seq.fasta' % f, shell=True, check=True)"
   ]
  },
  {
   "cell_type": "code",
   "execution_count": 5,
   "metadata": {},
   "outputs": [
    {
     "data": {
      "text/plain": [
       "CompletedProcess(args='makeblastdb -in ./all_seq.fasta -dbtype nucl -parse_seqids -out virusdb', returncode=0)"
      ]
     },
     "execution_count": 5,
     "metadata": {},
     "output_type": "execute_result"
    }
   ],
   "source": [
    "subprocess.run('makeblastdb -in ./all_seq.fasta -dbtype nucl -parse_seqids -out virusdb', shell=True, check=True)"
   ]
  }
 ],
 "metadata": {
  "kernelspec": {
   "display_name": "Python 3",
   "language": "python",
   "name": "python3"
  },
  "language_info": {
   "codemirror_mode": {
    "name": "ipython",
    "version": 3
   },
   "file_extension": ".py",
   "mimetype": "text/x-python",
   "name": "python",
   "nbconvert_exporter": "python",
   "pygments_lexer": "ipython3",
   "version": "3.8.3"
  }
 },
 "nbformat": 4,
 "nbformat_minor": 4
}
